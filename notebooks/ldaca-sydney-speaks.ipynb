{
 "cells": [
  {
   "cell_type": "code",
   "execution_count": null,
   "id": "700a277c",
   "metadata": {
    "collapsed": true
   },
   "outputs": [],
   "source": [
    "import sys\n",
    "!{sys.executable} -m pip uninstall ldaca -y"
   ]
  },
  {
   "cell_type": "code",
   "execution_count": null,
   "id": "d95d1268",
   "metadata": {
    "collapsed": true
   },
   "outputs": [],
   "source": [
    "import sys\n",
    "!{sys.executable} -m pip install python-dotenv>0.19.2\n",
    "!{sys.executable} -m pip install ldaca@git+https://github.com/Language-Research-Technology/ldaca-py.git@v0.0.2.dev"
   ]
  },
  {
   "cell_type": "code",
   "execution_count": 6,
   "id": "0761abe5",
   "metadata": {},
   "outputs": [],
   "source": [
    "import os\n",
    "from dotenv import load_dotenv\n",
    "from ldaca.ldaca import LDaCA\n",
    "URL = 'https://oni-demo.text-commons.org/api'\n",
    "COLLECTION_ID = 'arcp://name,sydney-speaks/corpus/root'\n",
    "load_dotenv('vars.env') \n",
    "TOKEN = os.getenv('API_KEY') "
   ]
  },
  {
   "cell_type": "code",
   "execution_count": 7,
   "id": "16b79137",
   "metadata": {},
   "outputs": [],
   "source": [
    "ldaca = LDaCA(url=URL, token=TOKEN)"
   ]
  },
  {
   "cell_type": "code",
   "execution_count": null,
   "id": "3ff50cb5",
   "metadata": {
    "collapsed": true
   },
   "outputs": [],
   "source": [
    "# Saves the metadata in the data_dir\n",
    "ldaca.get_collection(collection=COLLECTION_ID, collection_type='Collection', data_dir='data')"
   ]
  },
  {
   "cell_type": "code",
   "execution_count": null,
   "id": "fc3467c8",
   "metadata": {
    "collapsed": true
   },
   "outputs": [],
   "source": [
    "# Gets the collection member 3 and print the Id\n",
    "members = ldaca.get_members_of_collection()\n",
    "memberId = ldaca.collection_members[3]['crateId']\n",
    "memberId"
   ]
  },
  {
   "cell_type": "code",
   "execution_count": null,
   "id": "036bda87",
   "metadata": {
    "collapsed": true
   },
   "outputs": [],
   "source": [
    "# Finds files with a file picker and store data and metadata\n",
    "my_other_file_picker = lambda f : f if 'OrthographicTranscription' in f['@type'] else None\n",
    "ldaca.store_data(sub_collection=memberId, entity_type='DialogueText', file_picker=my_other_file_picker)"
   ]
  },
  {
   "cell_type": "code",
   "execution_count": null,
   "id": "459ce945",
   "metadata": {
    "collapsed": true
   },
   "outputs": [],
   "source": [
    "ldaca.ldaca_files_path"
   ]
  },
  {
   "cell_type": "code",
   "execution_count": 14,
   "id": "dddcad10",
   "metadata": {},
   "outputs": [],
   "source": [
    "data = ldaca.pandas_dataframe"
   ]
  },
  {
   "cell_type": "code",
   "execution_count": null,
   "id": "482a43c3",
   "metadata": {
    "collapsed": true
   },
   "outputs": [],
   "source": [
    "data"
   ]
  },
  {
   "cell_type": "code",
   "execution_count": null,
   "id": "a4227a48",
   "metadata": {},
   "outputs": [],
   "source": []
  }
 ],
 "metadata": {
  "kernelspec": {
   "display_name": "Python 3 (ipykernel)",
   "language": "python",
   "name": "python3"
  },
  "language_info": {
   "codemirror_mode": {
    "name": "ipython",
    "version": 3
   },
   "file_extension": ".py",
   "mimetype": "text/x-python",
   "name": "python",
   "nbconvert_exporter": "python",
   "pygments_lexer": "ipython3",
   "version": "3.8.12"
  }
 },
 "nbformat": 4,
 "nbformat_minor": 5
}
