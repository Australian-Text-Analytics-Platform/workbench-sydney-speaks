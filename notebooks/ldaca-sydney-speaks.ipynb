{
 "cells": [
  {
   "cell_type": "markdown",
   "id": "5f8d1fde-6ab6-438a-adb2-9079ef536082",
   "metadata": {},
   "source": [
    "# Loading Sydney Speaks from the LDaCA ReST API\n",
    "\n",
    "The Language Data Commons of Australia (LDaCA) packages all their data collections in an [ro-crate](https://www.researchobject.org/ro-crate/). There is a metadata file called `ro-crate-metadata.json` that comes with every data collection and this is how we can obtain metadata on this collection of research objects.\n",
    "\n",
    "The metadata file is in the json format, and so we'll be learning how to read a json file in this notebook.\n",
    "\n",
    "We will use the ldaca-py api wrapper to help us browse and get files from the collection database"
   ]
  },
  {
   "cell_type": "markdown",
   "id": "3f46e0fd-bd3e-4319-826c-1edada325dac",
   "metadata": {},
   "source": [
    "<div class=\"alert alert-block alert-success\">\n",
    "<b>Skills</b> \n",
    "    \n",
    "<ul>\n",
    "<li> json format (see https://en.wikipedia.org/wiki/JSON)</li>\n",
    "<li> working with files, API_KEYS, RO-Crates</li>\n",
    "<li> discovering and exploring metadata</li>\n",
    "</ul>    \n",
    "<br>\n",
    "\n",
    "<b>Skill level:</b> Intermediate\n",
    "</div>"
   ]
  },
  {
   "cell_type": "code",
   "execution_count": null,
   "id": "5b844fbd-3d94-4f5e-9e65-086ebccf8371",
   "metadata": {},
   "outputs": [],
   "source": [
    "# Before we begin, let's make sure that we install all the requirements that we need\n",
    "import sys\n",
    "!{sys.executable} -m pip install -r requirements.txt"
   ]
  },
  {
   "cell_type": "markdown",
   "id": "40db4bff-c6ba-40cc-bb03-2e19630d2d36",
   "metadata": {},
   "source": [
    "<div class=\"alert alert-block alert-info\">\n",
    "<b>Python Library: ldaca-py</b> \n",
    "<br>    \n",
    "An ldaca python library tries to help the user navigate the data collections in The Language Data Commons of Australia (LDaCA). \n",
    "<br>    \n",
    "In the block of code below, we are creating an ldaca instance\n",
    "    <strong>To do this we provide the url of ldaca and a token</strong>\n",
    "<br>\n",
    "To get an API token, go to https://data-dev.ldaca.edu.au, login via GitHub and generate an API TOKEN.\n",
    "Once we have an ldaca instance we can retrieve collections download data and use the ldaca.crate to explore the metadata. You will also get the ro-crate-metadata.json stored in the notebook\n",
    "</div>"
   ]
  },
  {
   "cell_type": "code",
   "execution_count": 20,
   "id": "a2226d23",
   "metadata": {},
   "outputs": [],
   "source": [
    "import os\n",
    "from dotenv import load_dotenv\n",
    "from ldaca.ldaca import LDaCA\n",
    "URL = 'https://data-dev.ldaca.edu.au/api'\n",
    "COLLECTION_ID = 'arcp://name,sydney-speaks/corpus/root'\n",
    "load_dotenv('vars.env') \n",
    "TOKEN = os.getenv('API_KEY') "
   ]
  },
  {
   "cell_type": "code",
   "execution_count": 21,
   "id": "2e5c37ea",
   "metadata": {},
   "outputs": [],
   "source": [
    "# Have you set your own API Key?\n",
    "\n",
    "while TOKEN == None or TOKEN == \"\": \n",
    "    print('You haven\\'t set an API_KEY value for this Collection in notebooks/vars.env.')\n",
    "    print('To get an API token, go to https://data-dev.ldaca.edu.au, login via GitHub and generate an API TOKEN.')\n",
    "    print('This token can be reused next time you launch this notebook.')\n",
    "    print('What is your API token?\\n') \n",
    "    TOKEN = input(\"API_KEY=\")    "
   ]
  },
  {
   "cell_type": "code",
   "execution_count": 22,
   "id": "d00a1ee4",
   "metadata": {},
   "outputs": [],
   "source": [
    "ldaca = LDaCA(url=URL, token=TOKEN)"
   ]
  },
  {
   "cell_type": "code",
   "execution_count": 24,
   "id": "b29cd4ca",
   "metadata": {},
   "outputs": [],
   "source": [
    "# Saves the metadata in the data_dir\n",
    "ldaca.retrieve_collection(collection=COLLECTION_ID, collection_type='Collection', data_dir='data')"
   ]
  },
  {
   "cell_type": "markdown",
   "id": "9a961ba5-87f6-4d22-b414-5e55044eb7ba",
   "metadata": {},
   "source": [
    "## The ldaca.crate\n",
    "\n",
    "We use (ro-crates)[https://www.researchobject.org/ro-crate/] in LDaCA as the standard metadata\n",
    "\n",
    "We use the special function called `ldaca.crate.dereference(id)` to find out which linked object this is\n",
    "More on how to consume an ro-crate using python here: https://github.com/ResearchObject/ro-crate-py#consuming-an-ro-crate"
   ]
  },
  {
   "cell_type": "code",
   "execution_count": 25,
   "id": "9bd3bb10-1498-49b1-a38b-389ba9f23106",
   "metadata": {},
   "outputs": [
    {
     "data": {
      "text/plain": [
       "<rocrate_lang.rocrate_plus.ROCratePlus at 0x111b92a00>"
      ]
     },
     "execution_count": 25,
     "metadata": {},
     "output_type": "execute_result"
    }
   ],
   "source": [
    "# The metadata is stored in ldaca.crate\n",
    "ldaca.crate"
   ]
  },
  {
   "cell_type": "code",
   "execution_count": 26,
   "id": "9e9d624f-5e05-41b7-9684-54a753d673a5",
   "metadata": {},
   "outputs": [
    {
     "data": {
      "text/plain": [
       "{'@id': '#provenance',\n",
       " '@type': 'CreateAction',\n",
       " 'name': 'Created RO-Crate using corpus-tools-sydney-speaks',\n",
       " 'instrument': {'@id': 'git+https://github.com/Language-Research-Technology/corpus-tools-sydney-speaks.git'},\n",
       " 'result': {'@id': 'ro-crate-metadata.json'}}"
      ]
     },
     "execution_count": 26,
     "metadata": {},
     "output_type": "execute_result"
    }
   ],
   "source": [
    "# We can explore the metadata programmatically this way\n",
    "provenance = ldaca.crate.dereference('#provenance')\n",
    "provenance.as_jsonld() # Use as_jsonld() to produce a json representation of the found item"
   ]
  },
  {
   "cell_type": "code",
   "execution_count": 27,
   "id": "9eeaf181-0953-4584-8d12-24ce61e0c3f1",
   "metadata": {},
   "outputs": [
    {
     "data": {
      "text/plain": [
       "{<arcp://name,sydney-speaks/corpus/root/ ['Dataset', 'RepositoryCollection']>,\n",
       " <arcp://name,sydney-speaks/subcorpus/Bcnt ['Dataset', 'RepositoryCollection']>,\n",
       " <arcp://name,sydney-speaks/subcorpus/SSDS ['Dataset', 'RepositoryCollection']>,\n",
       " <arcp://name,sydney-speaks/subcorpus/SydS ['Dataset', 'RepositoryCollection']>,\n",
       " <arcp://name,sydney-speaks/subcorpus/Syds ['Dataset', 'RepositoryCollection']>}"
      ]
     },
     "execution_count": 27,
     "metadata": {},
     "output_type": "execute_result"
    }
   ],
   "source": [
    "from rocrate_lang.utils import as_list # A handy utility for converting to list\n",
    "ro_crate_sub_collections = set()\n",
    "for item in ldaca.crate.contextual_entities:\n",
    "    for member_of in as_list(item.get('memberOf')):\n",
    "        ro_crate_sub_collections.add(member_of)\n",
    "ro_crate_sub_collections"
   ]
  },
  {
   "cell_type": "code",
   "execution_count": 28,
   "id": "a4ac68de-8148-4a6a-b9aa-5047fe10fae8",
   "metadata": {},
   "outputs": [
    {
     "data": {
      "text/plain": [
       "'arcp://name,sydney-speaks/subcorpus/Syds'"
      ]
     },
     "execution_count": 28,
     "metadata": {},
     "output_type": "execute_result"
    }
   ],
   "source": [
    "sub = next(iter(ro_crate_sub_collections))\n",
    "sub['@id']"
   ]
  },
  {
   "cell_type": "code",
   "execution_count": null,
   "id": "6ad19c52-5710-4e04-82aa-c071b7dd676e",
   "metadata": {},
   "outputs": [],
   "source": [
    "# We could get the members of this sub collection\n",
    "\n",
    "x_collection = list()\n",
    "\n",
    "for item in ldaca.crate.contextual_entities:\n",
    "    for member_of in as_list(item.get('memberOf')):\n",
    "        if member_of.id == sub['@id']:\n",
    "            x_collection.append(item)\n",
    "sample_item = x_collection[0].as_jsonld()\n",
    "print(json.dumps(sample_item, indent=2))"
   ]
  },
  {
   "cell_type": "code",
   "execution_count": 30,
   "id": "f0dae697",
   "metadata": {
    "tags": []
   },
   "outputs": [
    {
     "data": {
      "text/plain": [
       "[{'conformsTo': 'https://purl.archive.org/textcommons/profile#Collection',\n",
       "  'crateId': 'arcp://name,sydney-speaks/subcorpus/Syds',\n",
       "  'memberOf': 'arcp://name,sydney-speaks/corpus/root',\n",
       "  'record': {'license': 'https://www.dynamicsoflanguage.edu.au/sydney-speaks/licence/E/',\n",
       "   'name': 'Syds',\n",
       "   'description': ''}},\n",
       " {'conformsTo': 'https://purl.archive.org/textcommons/profile#Collection',\n",
       "  'crateId': 'arcp://name,sydney-speaks/subcorpus/Bcnt',\n",
       "  'memberOf': 'arcp://name,sydney-speaks/corpus/root',\n",
       "  'record': {'license': 'https://www.dynamicsoflanguage.edu.au/sydney-speaks/licence/E/',\n",
       "   'name': 'Bcnt',\n",
       "   'description': ''}},\n",
       " {'conformsTo': 'https://purl.archive.org/textcommons/profile#Collection',\n",
       "  'crateId': 'arcp://name,sydney-speaks/subcorpus/SydS',\n",
       "  'memberOf': 'arcp://name,sydney-speaks/corpus/root',\n",
       "  'record': {'license': 'https://www.dynamicsoflanguage.edu.au/sydney-speaks/licence/E/',\n",
       "   'name': 'SydS',\n",
       "   'description': ''}},\n",
       " {'conformsTo': 'https://purl.archive.org/textcommons/profile#Collection',\n",
       "  'crateId': 'arcp://name,sydney-speaks/subcorpus/SSDS',\n",
       "  'memberOf': 'arcp://name,sydney-speaks/corpus/root',\n",
       "  'record': {'license': 'https://www.dynamicsoflanguage.edu.au/sydney-speaks/licence/E/',\n",
       "   'name': 'SSDS',\n",
       "   'description': ''}}]"
      ]
     },
     "execution_count": 30,
     "metadata": {},
     "output_type": "execute_result"
    }
   ],
   "source": [
    "# We can then get the collections from the API\n",
    "# In this case we retrieve the members of the collection\n",
    "members = ldaca.retrieve_members_of_collection()\n",
    "ldaca.collection_members"
   ]
  },
  {
   "cell_type": "code",
   "execution_count": 31,
   "id": "ba7e64e0-787d-4157-9b2a-a9b773d20d5d",
   "metadata": {},
   "outputs": [
    {
     "data": {
      "text/plain": [
       "'arcp://name,sydney-speaks/subcorpus/SSDS'"
      ]
     },
     "execution_count": 31,
     "metadata": {},
     "output_type": "execute_result"
    }
   ],
   "source": [
    "# Lets select the 3rd member\n",
    "sub_collection = ldaca.collection_members[3]\n",
    "sub_collection['crateId']"
   ]
  },
  {
   "cell_type": "code",
   "execution_count": 32,
   "id": "f971533d",
   "metadata": {},
   "outputs": [
    {
     "data": {
      "text/plain": [
       "['data/ldaca_files/Interview_Transcript_1977-80_-_interview_with_Amar_Bakas_-_alias_-_(Male,_16).csv',\n",
       " 'data/ldaca_files/Interview_Transcript_1977-80_-_interview_with_Donna_Tortorella_-_alias_-_(Female,_16).csv',\n",
       " 'data/ldaca_files/Interview_Transcript_1977-80_-_interview_with_David_Sorielli_-_alias_-_(Male,_14).csv',\n",
       " 'data/ldaca_files/Interview_Transcript_1977-80_-_interview_with_Marta_Caccia_-_alias_-_(Female,_15).csv',\n",
       " 'data/ldaca_files/Interview_Transcript_1977-80_-_interview_with_Lorraine_Pastore_-_alias_-_(Female,_16).csv',\n",
       " 'data/ldaca_files/Interview_Transcript_1977-80_-_interview_with_Fay_Moore_-_alias_-_(Female,_14).csv',\n",
       " 'data/ldaca_files/Interview_Transcript_1977-80_-_interview_with_Calvin_Luchetti_-_alias_-_(Male,_14).csv',\n",
       " 'data/ldaca_files/Interview_Transcript_1977-80_-_interview_with_Franco_Manella_-_alias_-_(Male,_15).csv',\n",
       " 'data/ldaca_files/Interview_Transcript_1977-80_-_interview_with_Hanna_Lekosis_-_alias_-_(Female,_17).csv',\n",
       " 'data/ldaca_files/Interview_Transcript_1977-80_-_interview_with_Mike_Delman_-_alias_-_(Male,_18).csv',\n",
       " 'data/ldaca_files/Interview_Transcript_1977-80_-_interview_with_Brian_Hall_-_alias_-_(Male,_16).csv',\n",
       " 'data/ldaca_files/Interview_Transcript_1977-80_-_interview_with_Robin_Sutton_-_alias_-_(Female,_15).csv',\n",
       " 'data/ldaca_files/Interview_Transcript_1977-80_-_interview_with_Alberto_Grivasi_-_alias_-_(Male,_14).csv',\n",
       " 'data/ldaca_files/Interview_Transcript_1977-80_-_interview_with_Patrick_Bakas_-_alias_-_(Male,_15).csv',\n",
       " 'data/ldaca_files/Interview_Transcript_1977-80_-_interview_with_Jane_Del_Conte_-_alias_-_(Female,_46).csv',\n",
       " 'data/ldaca_files/Interview_Transcript_1977-80_-_interview_with_Elisa_Saracino_-_alias_-_(Female,_16).csv',\n",
       " 'data/ldaca_files/Interview_Transcript_1977-80_-_interview_with_Fabiana_Oteri_-_alias_-_(Female,_14).csv',\n",
       " 'data/ldaca_files/Interview_Transcript_1977-80_-_interview_with_Marisa_Trapani_-_alias_-_(Female,_15).csv',\n",
       " 'data/ldaca_files/Interview_Transcript_1977-80_-_interview_with_Ruth_Walcott_-_alias_-_(Female,_40).csv',\n",
       " 'data/ldaca_files/Interview_Transcript_1977-80_-_interview_with_Lily_Green_-_alias_-_(Female,_14).csv',\n",
       " 'data/ldaca_files/Interview_Transcript_1977-80_-_interview_with_Martin_Bates_-_alias_-_(Male,_16).csv',\n",
       " 'data/ldaca_files/Interview_Transcript_1977-80_-_interview_with_Dominic_DeLuca_-_alias_-_(Male,_14).csv',\n",
       " 'data/ldaca_files/Interview_Transcript_1977-80_-_interview_with_Wilma_Notts_-_alias_-_(Female,_38.5).csv',\n",
       " 'data/ldaca_files/Interview_Transcript_1977-80_-_interview_with_Damien_Visentin_-_alias_-_(Male,_15).csv',\n",
       " 'data/ldaca_files/Interview_Transcript_1977-80_-_interview_with_Brittany_Basford_-_alias_-_(Female,_48).csv',\n",
       " 'data/ldaca_files/Interview_Transcript_1977-80_-_interview_with_Blanca_Malena_-_alias_-_(Female,_16).csv',\n",
       " 'data/ldaca_files/Interview_Transcript_1977-80_-_interview_with_Jim_Sutton_-_alias_-_(Male,_40).csv',\n",
       " 'data/ldaca_files/Interview_Transcript_1977-80_-_interview_with_Eva_Marcone_-_alias_-_(Female,_17).csv',\n",
       " 'data/ldaca_files/Interview_Transcript_1977-80_-_interview_with_Samantha_Sakiris_-_alias_-_(Female,_17).csv',\n",
       " 'data/ldaca_files/Interview_Transcript_1977-80_-_interview_with_Andrew_Anastos_-_alias_-_(Male,_16).csv',\n",
       " 'data/ldaca_files/Interview_Transcript_1977-80_-_interview_with_Maria_Palermo_-_alias_-_(Female,_17).csv',\n",
       " 'data/ldaca_files/Interview_Transcript_1977-80_-_interview_with_Gary_Raffery_-_alias_-_(Male,_16).csv',\n",
       " 'data/ldaca_files/Interview_Transcript_1977-80_-_interview_with_Luigi_Carlito_-_alias_-_(Male,_15).csv',\n",
       " 'data/ldaca_files/Interview_Transcript_1977-80_-_interview_with_Pete_Gardener_-_alias_-_(Male,_15).csv',\n",
       " 'data/ldaca_files/Interview_Transcript_1977-80_-_interview_with_Julie_Wicken_-_alias_-_(Female,_44).csv',\n",
       " 'data/ldaca_files/Interview_Transcript_1977-80_-_interview_with_Jenny_Chaddock_-_alias_-_(Female,_17).csv',\n",
       " 'data/ldaca_files/Interview_Transcript_1977-80_-_interview_with_Belinda_Morris_-_alias_-_(Female,_39).csv',\n",
       " 'data/ldaca_files/Interview_Transcript_1977-80_-_interview_with_Simon_Apostolos_-_alias_-_(Male,_16).csv',\n",
       " 'data/ldaca_files/Interview_Transcript_1977-80_-_interview_with_Gregory_Notts_-_alias_-_(Male,_32.5).csv',\n",
       " 'data/ldaca_files/Interview_Transcript_1977-80_-_interview_with_Fabio_Visentin_-_alias_-_(Male,_12).csv',\n",
       " 'data/ldaca_files/Interview_Transcript_1977-80_-_interview_with_John_Remes_-_alias_-_(Male,_15).csv',\n",
       " 'data/ldaca_files/Interview_Transcript_1977-80_-_interview_with_Graham_Jeffries_-_alias_-_(Male,_41).csv',\n",
       " 'data/ldaca_files/Interview_Transcript_1977-80_-_interview_with_Agatha_Demetriou_-_alias_-_(Female,_17).csv',\n",
       " 'data/ldaca_files/Interview_Transcript_1977-80_-_interview_with_Dylan_Hutchinson_-_alias_-_(Male,_13).csv',\n",
       " 'data/ldaca_files/Interview_Transcript_1977-80_-_interview_with_Mitchell_Sampson_-_alias_-_(Male,_18).csv',\n",
       " 'data/ldaca_files/Interview_Transcript_1977-80_-_interview_with_Paula_Hutchinson_-_alias_-_(Female,_42).csv',\n",
       " 'data/ldaca_files/Interview_Transcript_1977-80_-_interview_with_Anthony_Castellanos_-_alias_-_(Male,_16).csv',\n",
       " 'data/ldaca_files/Interview_Transcript_1977-80_-_interview_with_Ryan_Kenton_-_alias_-_(Male,_15).csv',\n",
       " 'data/ldaca_files/Interview_Transcript_1977-80_-_interview_with_Keith_Morton_-_alias_-_(Male,_56).csv',\n",
       " 'data/ldaca_files/Interview_Transcript_1977-80_-_interview_with_Tim_Shilling_-_alias_-_(Male,_16).csv',\n",
       " 'data/ldaca_files/Interview_Transcript_1977-80_-_interview_with_Alonso_Tomassini_-_alias_-_(Male,_16).csv',\n",
       " 'data/ldaca_files/Interview_Transcript_1977-80_-_interview_with_Evangeline_Ross_-_alias_-_(Female,_14).csv',\n",
       " 'data/ldaca_files/Interview_Transcript_1977-80_-_interview_with_Richard_Shilling_-_alias_-_(Male,_13).csv',\n",
       " 'data/ldaca_files/Interview_Transcript_1977-80_-_interview_with_Ben_Grivas_-_alias_-_(Male,_15).csv',\n",
       " 'data/ldaca_files/Interview_Transcript_1977-80_-_interview_with_Jeanie_Carter_-_alias_-_(Female,_17).csv',\n",
       " 'data/ldaca_files/Interview_Transcript_1977-80_-_interview_with_Steven_Fenney_-_alias_-_(Male,_14).csv',\n",
       " 'data/ldaca_files/Interview_Transcript_1977-80_-_interview_with_Jade_Roberts_-_alias_-_(Female,_41).csv',\n",
       " 'data/ldaca_files/Interview_Transcript_1977-80_-_interview_with_Isa_Sarafopoulos_-_alias_-_(Female,_14).csv',\n",
       " 'data/ldaca_files/Interview_Transcript_1977-80_-_interview_with_Dina_Stratapofidis_-_alias_-_(Female,_15).csv',\n",
       " 'data/ldaca_files/Interview_Transcript_1977-80_-_interview_with_Bill_Siddle_-_alias_-_(Male,_64).csv',\n",
       " 'data/ldaca_files/Interview_Transcript_1977-80_-_interview_with_Liliana_Lenzi_-_alias_-_(Female,_18).csv',\n",
       " 'data/ldaca_files/Interview_Transcript_1977-80_-_interview_with_Murray_Dominico_-_alias_-_(Male,_14).csv',\n",
       " 'data/ldaca_files/Interview_Transcript_1977-80_-_interview_with_Violetta_DeRosa_-_alias_-_(Female,_17).csv',\n",
       " 'data/ldaca_files/Interview_Transcript_1977-80_-_interview_with_Janice_Weeks_-_alias_-_(Female,_40).csv',\n",
       " 'data/ldaca_files/Interview_Transcript_1977-80_-_interview_with_Jill_Thripp_-_alias_-_(Female,_47).csv',\n",
       " 'data/ldaca_files/Interview_Transcript_1977-80_-_interview_with_Fiona_Hutchinson_-_alias_-_(Female,_14).csv',\n",
       " 'data/ldaca_files/Interview_Transcript_1977-80_-_interview_with_Adrian_Tripodi_-_alias_-_(Male,_16).csv',\n",
       " 'data/ldaca_files/Interview_Transcript_1977-80_-_interview_with_Kim_Holt_-_alias_-_(Female,_16).csv',\n",
       " 'data/ldaca_files/Interview_Transcript_1977-80_-_interview_with_Alexi_Teofoli_-_alias_-_(Male,_14).csv',\n",
       " 'data/ldaca_files/Interview_Transcript_1977-80_-_interview_with_Jack_Stamatis_-_alias_-_(Male,_15).csv',\n",
       " 'data/ldaca_files/Interview_Transcript_1977-80_-_interview_with_Damasus_Floros_-_alias_-_(Male,_14).csv',\n",
       " 'data/ldaca_files/Interview_Transcript_1977-80_-_interview_with_Carlo_Remes_-_alias_-_(Male,_17).csv',\n",
       " 'data/ldaca_files/Interview_Transcript_1977-80_-_interview_with_Linore_Athanas_-_alias_-_(Female,_14).csv',\n",
       " 'data/ldaca_files/Interview_Transcript_1977-80_-_interview_with_Jo_Delman_-_alias_-_(Female,_15).csv',\n",
       " 'data/ldaca_files/Interview_Transcript_1977-80_-_interview_with_Barry_Moore_-_alias_-_(Male,_43.5).csv',\n",
       " 'data/ldaca_files/Interview_Transcript_1977-80_-_interview_with_Pippa_Kontos_-_alias_-_(Female,_18).csv',\n",
       " 'data/ldaca_files/Interview_Transcript_1977-80_-_interview_with_Philip_Huxley_-_alias_-_(Male,_16).csv',\n",
       " 'data/ldaca_files/Interview_Transcript_1977-80_-_interview_with_Sara_Lazzaro_-_alias_-_(Female,_13).csv',\n",
       " 'data/ldaca_files/Interview_Transcript_1977-80_-_interview_with_George_Christou_-_alias_-_(Male,_16).csv',\n",
       " 'data/ldaca_files/Interview_Transcript_1977-80_-_interview_with_Carol_Anders_-_alias_-_(Female,_44).csv']"
      ]
     },
     "execution_count": 32,
     "metadata": {},
     "output_type": "execute_result"
    }
   ],
   "source": [
    "# Finds files with a file picker and store data and metadata\n",
    "# All files will be stored in data/ldaca_files\n",
    "\n",
    "my_file_picker = lambda f: f if f.get('encodingFormat') == 'text/csv' else None\n",
    "all_files = ldaca.store_data(\n",
    "    sub_collection=sub_collection['crateId'], \n",
    "    entity_type='RepositoryObject', \n",
    "    ldaca_files='ldaca_files', \n",
    "    file_picker=my_file_picker, extension='csv'\n",
    ")\n",
    "all_files"
   ]
  },
  {
   "cell_type": "code",
   "execution_count": 33,
   "id": "23698376",
   "metadata": {},
   "outputs": [
    {
     "data": {
      "text/plain": [
       "'data/ldaca_files/Interview_Transcript_1977-80_-_interview_with_Amar_Bakas_-_alias_-_(Male,_16).csv'"
      ]
     },
     "execution_count": 33,
     "metadata": {},
     "output_type": "execute_result"
    }
   ],
   "source": [
    "# Lets browse one file\n",
    "all_files[0]"
   ]
  },
  {
   "cell_type": "markdown",
   "id": "7b7395a5-859b-4701-ba3a-5ee9f4369636",
   "metadata": {},
   "source": [
    "## Frictionless Libraries\n",
    "Lets use the [Table Schema](https://specs.frictionlessdata.io/table-schema/) defined in the Frictionless Framework.\n",
    "\n",
    "We will use [tableschema-py](https://libraries.frictionlessdata.io/docs/table-schema/python) which is a python implementation of this"
   ]
  },
  {
   "cell_type": "code",
   "execution_count": null,
   "id": "d85990de",
   "metadata": {},
   "outputs": [],
   "source": [
    "import sys\n",
    "\n",
    "!{sys.executable} -m pip install tableschema"
   ]
  },
  {
   "cell_type": "code",
   "execution_count": null,
   "id": "caffa8ca",
   "metadata": {},
   "outputs": [],
   "source": [
    "from tableschema import Table\n",
    "import json\n",
    "table = Table(all_files[0])\n",
    "table.headers\n",
    "table_read = table.read(keyed=True)\n",
    "# Lets browse the tables first 3 rows\n",
    "for x in range(0, 10):\n",
    "    print(json.dumps(table_read[x], indent=4))"
   ]
  },
  {
   "cell_type": "code",
   "execution_count": 45,
   "id": "d3269024",
   "metadata": {},
   "outputs": [],
   "source": [
    "table.infer()\n",
    "schema = table.schema.descriptor"
   ]
  },
  {
   "cell_type": "code",
   "execution_count": 47,
   "id": "3770a9be-7aef-4d60-a5c9-b46af43801f8",
   "metadata": {},
   "outputs": [
    {
     "name": "stdout",
     "output_type": "stream",
     "text": [
      "<class 'dict'>\n",
      "{'name': 'field1', 'type': 'integer', 'format': 'default'}\n",
      "<class 'dict'>\n",
      "{'name': 'Transcript', 'type': 'string', 'format': 'default'}\n",
      "<class 'dict'>\n",
      "{'name': 'start_time', 'type': 'string', 'format': 'default'}\n",
      "<class 'dict'>\n",
      "{'name': 'end_time', 'type': 'string', 'format': 'default'}\n",
      "<class 'dict'>\n",
      "{'name': 'speaker', 'type': 'string', 'format': 'default'}\n",
      "<class 'dict'>\n",
      "{'name': 'IU', 'type': 'string', 'format': 'default'}\n"
     ]
    }
   ],
   "source": [
    "# Now, each field in the schema is a python object\n",
    "\n",
    "for field in schema['fields']:\n",
    "    print(type(field))\n",
    "    print(field)"
   ]
  },
  {
   "cell_type": "code",
   "execution_count": null,
   "id": "2b94e5d3-150b-49ac-afd0-94ed03cfa23f",
   "metadata": {},
   "outputs": [],
   "source": []
  }
 ],
 "metadata": {
  "kernelspec": {
   "display_name": "Python 3 (ipykernel)",
   "language": "python",
   "name": "python3"
  },
  "language_info": {
   "codemirror_mode": {
    "name": "ipython",
    "version": 3
   },
   "file_extension": ".py",
   "mimetype": "text/x-python",
   "name": "python",
   "nbconvert_exporter": "python",
   "pygments_lexer": "ipython3",
   "version": "3.8.9"
  }
 },
 "nbformat": 4,
 "nbformat_minor": 5
}
