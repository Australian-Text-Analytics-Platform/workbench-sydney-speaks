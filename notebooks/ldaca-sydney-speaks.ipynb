{
 "cells": [
  {
   "cell_type": "code",
   "execution_count": null,
   "metadata": {
    "scrolled": true
   },
   "outputs": [],
   "source": [
    "import sys\n",
    "!{sys.executable} -m pip uninstall ldaca -y"
   ]
  },
  {
   "cell_type": "code",
   "execution_count": null,
   "metadata": {},
   "outputs": [],
   "source": [
    "import sys\n",
    "!{sys.executable} -m pip install python-dotenv>0.19.2\n",
    "!{sys.executable} -m pip install ldaca@git+https://github.com/Language-Research-Technology/ldaca-py.git@v0.0.2.dev"
   ]
  },
  {
   "cell_type": "code",
   "execution_count": null,
   "metadata": {},
   "outputs": [],
   "source": [
    "import os\n",
    "from dotenv import load_dotenv\n",
    "from ldaca.ldaca import LDaCA\n",
    "URL = 'https://oni-demo.text-commons.org/api'\n",
    "COLLECTION_ID = 'arcp://name,sydney-speaks/corpus/root'\n",
    "load_dotenv('vars.env') \n",
    "TOKEN = os.getenv('API_KEY') "
   ]
  },
  {
   "cell_type": "code",
   "execution_count": null,
   "metadata": {},
   "outputs": [],
   "source": [
    "# Have you set your own API Key?\n",
    "\n",
    "while TOKEN == None or TOKEN == \"\": \n",
    "    print('You haven\\'t set an API_KEY value for this Collection in notebooks/vars.env.')\n",
    "    print('To get an API token, go to https://oni-demo.text-commons.org, login via GitHub and generate an API TOKEN.')\n",
    "    print('This token can be reused next time you launch this notebook.')\n",
    "    print('What is your API token?\\n') \n",
    "    TOKEN = input(\"API_KEY=\")    "
   ]
  },
  {
   "cell_type": "code",
   "execution_count": null,
   "metadata": {},
   "outputs": [],
   "source": [
    "ldaca = LDaCA(url=URL, token=TOKEN)"
   ]
  },
  {
   "cell_type": "code",
   "execution_count": null,
   "metadata": {},
   "outputs": [],
   "source": [
    "# Saves the metadata in the data_dir\n",
    "ldaca.get_collection(collection=COLLECTION_ID, collection_type='Collection', data_dir='data')"
   ]
  },
  {
   "cell_type": "code",
   "execution_count": null,
   "metadata": {},
   "outputs": [],
   "source": [
    "# Gets the collection member 3 and print the Id\n",
    "members = ldaca.get_members_of_collection()\n",
    "memberId = ldaca.collection_members[3]['crateId']\n",
    "memberId"
   ]
  },
  {
   "cell_type": "code",
   "execution_count": null,
   "metadata": {},
   "outputs": [],
   "source": [
    "# Finds files with a file picker and store data and metadata\n",
    "my_other_file_picker = lambda f : f if 'OrthographicTranscription' in f['@type'] else None\n",
    "ldaca.store_data(sub_collection=memberId, entity_type='DialogueText', file_picker=my_other_file_picker)"
   ]
  },
  {
   "cell_type": "code",
   "execution_count": null,
   "metadata": {},
   "outputs": [],
   "source": [
    "ldaca.ldaca_files_path"
   ]
  },
  {
   "cell_type": "code",
   "execution_count": null,
   "metadata": {},
   "outputs": [],
   "source": [
    "data = ldaca.pandas_dataframe"
   ]
  },
  {
   "cell_type": "code",
   "execution_count": null,
   "metadata": {},
   "outputs": [],
   "source": [
    "data"
   ]
  },
  {
   "cell_type": "code",
   "execution_count": null,
   "metadata": {},
   "outputs": [],
   "source": []
  }
 ],
 "metadata": {
  "kernelspec": {
   "display_name": "Python 3",
   "language": "python",
   "name": "python3"
  },
  "language_info": {
   "codemirror_mode": {
    "name": "ipython",
    "version": 3
   },
   "file_extension": ".py",
   "mimetype": "text/x-python",
   "name": "python",
   "nbconvert_exporter": "python",
   "pygments_lexer": "ipython3",
   "version": "3.7.6"
  }
 },
 "nbformat": 4,
 "nbformat_minor": 5
}
